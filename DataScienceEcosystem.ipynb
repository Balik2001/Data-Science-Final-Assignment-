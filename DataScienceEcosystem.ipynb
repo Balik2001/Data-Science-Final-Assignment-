{
 "cells": [
  {
   "cell_type": "markdown",
   "id": "ef5d76aa",
   "metadata": {},
   "source": [
    "# Data Science Tools and Ecosystem"
   ]
  },
  {
   "cell_type": "markdown",
   "id": "77e14f4f",
   "metadata": {},
   "source": [
    "### In this notebook, Data Science Tools and Ecosystem are summarized. "
   ]
  },
  {
   "cell_type": "markdown",
   "id": "ec7e99b7",
   "metadata": {},
   "source": [
    "**Objectives covered in this notebook:** \n",
    "- Popular programming languages for Data Science\n",
    "- Commonly used libraries by Data Scientists\n",
    "- Open Source Development Environments \n",
    "- Anaconda, Jupyter Notebook, Jupyter Lite, Kernels\n",
    "- GitLab and GitHub\n",
    "\n"
   ]
  },
  {
   "cell_type": "markdown",
   "id": "6b72559a",
   "metadata": {},
   "source": [
    "#### Some of the popular languages that Data Scientists use are: \n",
    "1. Python\n",
    "2. R\n",
    "3. SQL\n",
    "4. JavaScript\n",
    "5. Julia"
   ]
  },
  {
   "cell_type": "markdown",
   "id": "a2d6bfed",
   "metadata": {},
   "source": [
    "#### Some of the commonly used libraries used by Data Scientists include:\n",
    "1. NumPy\n",
    "2. TensorFlow\n",
    "3. PyTorch\n",
    "4. Pandas"
   ]
  },
  {
   "cell_type": "markdown",
   "id": "2d70d48e",
   "metadata": {},
   "source": [
    "| Data Science Tools |\n",
    "----------------------\n",
    "| R Studio |\n",
    "| Apache Spark |\n",
    "| TensorFlow |\n",
    "\n"
   ]
  },
  {
   "cell_type": "markdown",
   "id": "57aa2a90",
   "metadata": {},
   "source": [
    "### Below are a few examples of evaluating arithmetic expressions in python. "
   ]
  },
  {
   "cell_type": "code",
   "execution_count": 4,
   "id": "c82b24c1",
   "metadata": {},
   "outputs": [
    {
     "name": "stdout",
     "output_type": "stream",
     "text": [
      "17\n"
     ]
    }
   ],
   "source": [
    "# This is a simple arithmetic expression to multiply then add integers \n",
    "\n",
    "a = 3\n",
    "b = 4\n",
    "c = 5\n",
    "d = (a*b)+c\n",
    "print(d)\n"
   ]
  },
  {
   "cell_type": "code",
   "execution_count": 6,
   "id": "7483666c",
   "metadata": {},
   "outputs": [
    {
     "name": "stdout",
     "output_type": "stream",
     "text": [
      "200 minutes is 3.3333333333333335 hours.\n"
     ]
    }
   ],
   "source": [
    "# This will convert 200 minutes to hours by dividing by 60\n",
    "\n",
    "a = 200\n",
    "b = 60\n",
    "c = a/b\n",
    "print(\"200 minutes is \"+ str(c) + \" hours.\")"
   ]
  },
  {
   "cell_type": "markdown",
   "id": "80dbe013",
   "metadata": {},
   "source": [
    "## Author \n",
    "Ali Demiralp"
   ]
  },
  {
   "cell_type": "code",
   "execution_count": null,
   "id": "f3a807e3",
   "metadata": {},
   "outputs": [],
   "source": []
  }
 ],
 "metadata": {
  "kernelspec": {
   "display_name": "Python 3 (ipykernel)",
   "language": "python",
   "name": "python3"
  },
  "language_info": {
   "codemirror_mode": {
    "name": "ipython",
    "version": 3
   },
   "file_extension": ".py",
   "mimetype": "text/x-python",
   "name": "python",
   "nbconvert_exporter": "python",
   "pygments_lexer": "ipython3",
   "version": "3.11.5"
  }
 },
 "nbformat": 4,
 "nbformat_minor": 5
}
